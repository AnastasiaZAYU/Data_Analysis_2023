{
  "nbformat": 4,
  "nbformat_minor": 0,
  "metadata": {
    "colab": {
      "provenance": [],
      "authorship_tag": "ABX9TyOKDe4r3V5XagGfkWc3D4p3",
      "include_colab_link": true
    },
    "kernelspec": {
      "name": "python3",
      "display_name": "Python 3"
    },
    "language_info": {
      "name": "python"
    }
  },
  "cells": [
    {
      "cell_type": "markdown",
      "metadata": {
        "id": "view-in-github",
        "colab_type": "text"
      },
      "source": [
        "<a href=\"https://colab.research.google.com/github/AnastasiaZAYU/Data_Analysis_2023/blob/main/Lab3_DataAnalysis.ipynb\" target=\"_parent\"><img src=\"https://colab.research.google.com/assets/colab-badge.svg\" alt=\"Open In Colab\"/></a>"
      ]
    },
    {
      "cell_type": "markdown",
      "source": [
        "# Виконати наступне:\n",
        "1. **Повнозв'язані нейронні мережі.**\n",
        "Вирішіть завдання класифікації даних, з якими ви працювали в лабораторній № 1 за допомогою повнозв’язаної нейромережі прямого поширення (fully connected feed-forward network). Результати порівняйте з одержаними раніше.\n",
        "\n",
        "2. **Згорткові нейронні мережі.**\n",
        "Вирішіть завдання класифікації зображень за допомогою згорткової (convolutional) нейромережі (якщо в обраному датасеті класів забагато, достатньо залишити 3-5).\n",
        "\n",
        "3. **Рекурентні нейронні мережі.**\n",
        "Вирішіть задачу класифікації текстів (з якими ви працювали в лабораторній № 2) за допомогою рекурентної нейромережі. Результати порівняйте з одержаними раніш."
      ],
      "metadata": {
        "id": "4wxy3DwazQnz"
      }
    },
    {
      "cell_type": "code",
      "source": [
        "import numpy as np\n",
        "import pandas as pd\n",
        "import matplotlib.pyplot as plt\n",
        "import seaborn as sns\n",
        "\n",
        "import tensorflow as tf\n",
        "from tensorflow import keras\n",
        "from tensorflow.keras import layers\n",
        "\n",
        "from sklearn.preprocessing import MinMaxScaler\n",
        "from sklearn.model_selection import train_test_split\n",
        "from tensorflow.keras.preprocessing.text import Tokenizer\n",
        "\n",
        "import re\n",
        "import string\n",
        "import nltk\n",
        "from nltk.tokenize import word_tokenize\n",
        "from nltk.corpus import stopwords\n",
        "nltk.download('stopwords')"
      ],
      "metadata": {
        "id": "mnrEs3vtQjs8",
        "colab": {
          "base_uri": "https://localhost:8080/"
        },
        "outputId": "21303025-3238-4397-c2ff-e42336e9b748"
      },
      "execution_count": 77,
      "outputs": [
        {
          "output_type": "stream",
          "name": "stderr",
          "text": [
            "[nltk_data] Downloading package stopwords to /root/nltk_data...\n",
            "[nltk_data]   Package stopwords is already up-to-date!\n"
          ]
        },
        {
          "output_type": "execute_result",
          "data": {
            "text/plain": [
              "True"
            ]
          },
          "metadata": {},
          "execution_count": 77
        }
      ]
    },
    {
      "cell_type": "markdown",
      "source": [
        "## 1. Повнозв'язані нейронні мережі"
      ],
      "metadata": {
        "id": "RgE-MPUbJyiS"
      }
    },
    {
      "cell_type": "markdown",
      "source": [
        "### Завантаження та очишення даних"
      ],
      "metadata": {
        "id": "bVCI8NZbc7Ul"
      }
    },
    {
      "cell_type": "code",
      "source": [
        "df=pd.read_csv('advertising_ef.csv')\n",
        "df=df.dropna()"
      ],
      "metadata": {
        "id": "QAncnBBrG14X"
      },
      "execution_count": 73,
      "outputs": []
    },
    {
      "cell_type": "markdown",
      "source": [
        "### Вивід назв колонок"
      ],
      "metadata": {
        "id": "XFi4XviIdAC-"
      }
    },
    {
      "cell_type": "code",
      "source": [
        "df.columns"
      ],
      "metadata": {
        "colab": {
          "base_uri": "https://localhost:8080/"
        },
        "id": "TSmXkqRDHtMk",
        "outputId": "d3d4bfd5-d2be-4799-ab2b-be38c2b35cf3"
      },
      "execution_count": 74,
      "outputs": [
        {
          "output_type": "execute_result",
          "data": {
            "text/plain": [
              "Index(['Daily Time Spent on Site', 'Age', 'Area Income',\n",
              "       'Daily Internet Usage', 'Gender', 'Clicked on Ad'],\n",
              "      dtype='object')"
            ]
          },
          "metadata": {},
          "execution_count": 74
        }
      ]
    },
    {
      "cell_type": "markdown",
      "source": [
        "### Відокремлення target та стандартизація даних"
      ],
      "metadata": {
        "id": "81W14PdJha01"
      }
    },
    {
      "cell_type": "code",
      "source": [
        "X = df.drop(['Clicked on Ad'], axis = 1)\n",
        "y = np.array(df['Clicked on Ad'])\n",
        "print(X.shape)"
      ],
      "metadata": {
        "colab": {
          "base_uri": "https://localhost:8080/"
        },
        "id": "6rdGV3pqKjxE",
        "outputId": "cd22161c-e4a6-4aaa-cd54-c672118dbe51"
      },
      "execution_count": 75,
      "outputs": [
        {
          "output_type": "stream",
          "name": "stdout",
          "text": [
            "(980, 5)\n"
          ]
        }
      ]
    },
    {
      "cell_type": "code",
      "source": [
        "X_train, X_test, y_train, y_test = train_test_split(X_std, y, test_size=0.25, random_state=10)"
      ],
      "metadata": {
        "id": "7BpsrRGuqyjN"
      },
      "execution_count": 76,
      "outputs": []
    },
    {
      "cell_type": "code",
      "source": [
        "scaler = MinMaxScaler()\n",
        "scaler.fit(X_train)\n",
        "x_train = scaler.transform(X_train)\n",
        "x_test = scaler.transform(X_test)"
      ],
      "metadata": {
        "id": "YhKZUZDDFTmc"
      },
      "execution_count": 78,
      "outputs": []
    },
    {
      "cell_type": "code",
      "source": [
        "model = keras.Sequential([\n",
        " layers.Dense(32, activation=\"relu\", input_shape=(X_train.shape[-1],)),\n",
        " layers.Dropout(0.3),\n",
        " layers.Dense(16, activation=\"relu\"),\n",
        " layers.Dropout(0.3),\n",
        " layers.Dense(1, activation=\"sigmoid\")\n",
        "])"
      ],
      "metadata": {
        "id": "rPYKh5mAxnwD"
      },
      "execution_count": 84,
      "outputs": []
    },
    {
      "cell_type": "code",
      "source": [
        "model.summary()"
      ],
      "metadata": {
        "colab": {
          "base_uri": "https://localhost:8080/"
        },
        "id": "sCSdWEoLFfSd",
        "outputId": "389a14ae-1c3c-4e79-824f-80562d2c8203"
      },
      "execution_count": 85,
      "outputs": [
        {
          "output_type": "stream",
          "name": "stdout",
          "text": [
            "Model: \"sequential_5\"\n",
            "_________________________________________________________________\n",
            " Layer (type)                Output Shape              Param #   \n",
            "=================================================================\n",
            " dense_13 (Dense)            (None, 32)                192       \n",
            "                                                                 \n",
            " dropout_8 (Dropout)         (None, 32)                0         \n",
            "                                                                 \n",
            " dense_14 (Dense)            (None, 16)                528       \n",
            "                                                                 \n",
            " dropout_9 (Dropout)         (None, 16)                0         \n",
            "                                                                 \n",
            " dense_15 (Dense)            (None, 1)                 17        \n",
            "                                                                 \n",
            "=================================================================\n",
            "Total params: 737 (2.88 KB)\n",
            "Trainable params: 737 (2.88 KB)\n",
            "Non-trainable params: 0 (0.00 Byte)\n",
            "_________________________________________________________________\n"
          ]
        }
      ]
    },
    {
      "cell_type": "code",
      "source": [
        "model.compile(optimizer=\"rmsprop\",\n",
        "              loss=\"binary_crossentropy\",\n",
        "              metrics=[\"accuracy\"])"
      ],
      "metadata": {
        "id": "yOK2af7jzQl2"
      },
      "execution_count": 86,
      "outputs": []
    },
    {
      "cell_type": "code",
      "source": [
        "history = model.fit(X_train, y_train, validation_data=(X_test, y_test), epochs=50, batch_size=512)"
      ],
      "metadata": {
        "colab": {
          "base_uri": "https://localhost:8080/"
        },
        "id": "V8yoxH_nFzkL",
        "outputId": "6c0e6883-148e-4543-c7f5-ce57c83e6d4e"
      },
      "execution_count": 90,
      "outputs": [
        {
          "output_type": "stream",
          "name": "stdout",
          "text": [
            "Epoch 1/50\n",
            "2/2 [==============================] - 0s 331ms/step - loss: 0.0875 - accuracy: 0.9755 - val_loss: 0.1228 - val_accuracy: 0.9633\n",
            "Epoch 2/50\n",
            "2/2 [==============================] - 0s 112ms/step - loss: 0.0779 - accuracy: 0.9796 - val_loss: 0.1231 - val_accuracy: 0.9633\n",
            "Epoch 3/50\n",
            "2/2 [==============================] - 0s 157ms/step - loss: 0.0873 - accuracy: 0.9728 - val_loss: 0.1229 - val_accuracy: 0.9633\n",
            "Epoch 4/50\n",
            "2/2 [==============================] - 0s 114ms/step - loss: 0.0825 - accuracy: 0.9741 - val_loss: 0.1223 - val_accuracy: 0.9633\n",
            "Epoch 5/50\n",
            "2/2 [==============================] - 0s 111ms/step - loss: 0.0824 - accuracy: 0.9769 - val_loss: 0.1233 - val_accuracy: 0.9633\n",
            "Epoch 6/50\n",
            "2/2 [==============================] - 0s 142ms/step - loss: 0.0865 - accuracy: 0.9782 - val_loss: 0.1235 - val_accuracy: 0.9633\n",
            "Epoch 7/50\n",
            "2/2 [==============================] - 0s 143ms/step - loss: 0.0947 - accuracy: 0.9714 - val_loss: 0.1232 - val_accuracy: 0.9633\n",
            "Epoch 8/50\n",
            "2/2 [==============================] - 0s 173ms/step - loss: 0.0810 - accuracy: 0.9782 - val_loss: 0.1231 - val_accuracy: 0.9633\n",
            "Epoch 9/50\n",
            "2/2 [==============================] - 0s 85ms/step - loss: 0.0800 - accuracy: 0.9782 - val_loss: 0.1244 - val_accuracy: 0.9633\n",
            "Epoch 10/50\n",
            "2/2 [==============================] - 0s 98ms/step - loss: 0.0866 - accuracy: 0.9796 - val_loss: 0.1235 - val_accuracy: 0.9633\n",
            "Epoch 11/50\n",
            "2/2 [==============================] - 0s 107ms/step - loss: 0.0784 - accuracy: 0.9741 - val_loss: 0.1231 - val_accuracy: 0.9633\n",
            "Epoch 12/50\n",
            "2/2 [==============================] - 0s 77ms/step - loss: 0.0892 - accuracy: 0.9755 - val_loss: 0.1232 - val_accuracy: 0.9633\n",
            "Epoch 13/50\n",
            "2/2 [==============================] - 0s 142ms/step - loss: 0.0772 - accuracy: 0.9728 - val_loss: 0.1231 - val_accuracy: 0.9633\n",
            "Epoch 14/50\n",
            "2/2 [==============================] - 0s 121ms/step - loss: 0.0836 - accuracy: 0.9769 - val_loss: 0.1228 - val_accuracy: 0.9633\n",
            "Epoch 15/50\n",
            "2/2 [==============================] - 0s 117ms/step - loss: 0.0807 - accuracy: 0.9741 - val_loss: 0.1231 - val_accuracy: 0.9633\n",
            "Epoch 16/50\n",
            "2/2 [==============================] - 0s 74ms/step - loss: 0.0923 - accuracy: 0.9714 - val_loss: 0.1215 - val_accuracy: 0.9633\n",
            "Epoch 17/50\n",
            "2/2 [==============================] - 0s 71ms/step - loss: 0.0826 - accuracy: 0.9741 - val_loss: 0.1220 - val_accuracy: 0.9633\n",
            "Epoch 18/50\n",
            "2/2 [==============================] - 0s 73ms/step - loss: 0.0957 - accuracy: 0.9755 - val_loss: 0.1210 - val_accuracy: 0.9633\n",
            "Epoch 19/50\n",
            "2/2 [==============================] - 0s 41ms/step - loss: 0.0906 - accuracy: 0.9728 - val_loss: 0.1211 - val_accuracy: 0.9633\n",
            "Epoch 20/50\n",
            "2/2 [==============================] - 0s 41ms/step - loss: 0.0861 - accuracy: 0.9755 - val_loss: 0.1217 - val_accuracy: 0.9633\n",
            "Epoch 21/50\n",
            "2/2 [==============================] - 0s 46ms/step - loss: 0.0793 - accuracy: 0.9796 - val_loss: 0.1214 - val_accuracy: 0.9633\n",
            "Epoch 22/50\n",
            "2/2 [==============================] - 0s 56ms/step - loss: 0.0778 - accuracy: 0.9728 - val_loss: 0.1214 - val_accuracy: 0.9633\n",
            "Epoch 23/50\n",
            "2/2 [==============================] - 0s 60ms/step - loss: 0.0910 - accuracy: 0.9687 - val_loss: 0.1214 - val_accuracy: 0.9633\n",
            "Epoch 24/50\n",
            "2/2 [==============================] - 0s 40ms/step - loss: 0.0795 - accuracy: 0.9769 - val_loss: 0.1221 - val_accuracy: 0.9633\n",
            "Epoch 25/50\n",
            "2/2 [==============================] - 0s 37ms/step - loss: 0.0741 - accuracy: 0.9769 - val_loss: 0.1217 - val_accuracy: 0.9633\n",
            "Epoch 26/50\n",
            "2/2 [==============================] - 0s 38ms/step - loss: 0.0814 - accuracy: 0.9769 - val_loss: 0.1216 - val_accuracy: 0.9633\n",
            "Epoch 27/50\n",
            "2/2 [==============================] - 0s 40ms/step - loss: 0.0725 - accuracy: 0.9782 - val_loss: 0.1219 - val_accuracy: 0.9633\n",
            "Epoch 28/50\n",
            "2/2 [==============================] - 0s 37ms/step - loss: 0.0873 - accuracy: 0.9755 - val_loss: 0.1221 - val_accuracy: 0.9633\n",
            "Epoch 29/50\n",
            "2/2 [==============================] - 0s 36ms/step - loss: 0.0811 - accuracy: 0.9796 - val_loss: 0.1221 - val_accuracy: 0.9633\n",
            "Epoch 30/50\n",
            "2/2 [==============================] - 0s 42ms/step - loss: 0.0811 - accuracy: 0.9741 - val_loss: 0.1217 - val_accuracy: 0.9633\n",
            "Epoch 31/50\n",
            "2/2 [==============================] - 0s 36ms/step - loss: 0.0816 - accuracy: 0.9782 - val_loss: 0.1217 - val_accuracy: 0.9633\n",
            "Epoch 32/50\n",
            "2/2 [==============================] - 0s 35ms/step - loss: 0.0755 - accuracy: 0.9741 - val_loss: 0.1217 - val_accuracy: 0.9633\n",
            "Epoch 33/50\n",
            "2/2 [==============================] - 0s 54ms/step - loss: 0.0818 - accuracy: 0.9755 - val_loss: 0.1223 - val_accuracy: 0.9633\n",
            "Epoch 34/50\n",
            "2/2 [==============================] - 0s 35ms/step - loss: 0.0776 - accuracy: 0.9741 - val_loss: 0.1221 - val_accuracy: 0.9633\n",
            "Epoch 35/50\n",
            "2/2 [==============================] - 0s 39ms/step - loss: 0.0791 - accuracy: 0.9769 - val_loss: 0.1218 - val_accuracy: 0.9633\n",
            "Epoch 36/50\n",
            "2/2 [==============================] - 0s 34ms/step - loss: 0.0763 - accuracy: 0.9755 - val_loss: 0.1222 - val_accuracy: 0.9633\n",
            "Epoch 37/50\n",
            "2/2 [==============================] - 0s 34ms/step - loss: 0.0784 - accuracy: 0.9741 - val_loss: 0.1226 - val_accuracy: 0.9633\n",
            "Epoch 38/50\n",
            "2/2 [==============================] - 0s 38ms/step - loss: 0.0805 - accuracy: 0.9810 - val_loss: 0.1216 - val_accuracy: 0.9633\n",
            "Epoch 39/50\n",
            "2/2 [==============================] - 0s 40ms/step - loss: 0.0794 - accuracy: 0.9714 - val_loss: 0.1214 - val_accuracy: 0.9633\n",
            "Epoch 40/50\n",
            "2/2 [==============================] - 0s 37ms/step - loss: 0.0895 - accuracy: 0.9755 - val_loss: 0.1211 - val_accuracy: 0.9633\n",
            "Epoch 41/50\n",
            "2/2 [==============================] - 0s 53ms/step - loss: 0.0849 - accuracy: 0.9755 - val_loss: 0.1218 - val_accuracy: 0.9633\n",
            "Epoch 42/50\n",
            "2/2 [==============================] - 0s 40ms/step - loss: 0.0840 - accuracy: 0.9755 - val_loss: 0.1221 - val_accuracy: 0.9633\n",
            "Epoch 43/50\n",
            "2/2 [==============================] - 0s 60ms/step - loss: 0.0728 - accuracy: 0.9741 - val_loss: 0.1224 - val_accuracy: 0.9633\n",
            "Epoch 44/50\n",
            "2/2 [==============================] - 0s 58ms/step - loss: 0.0870 - accuracy: 0.9728 - val_loss: 0.1221 - val_accuracy: 0.9633\n",
            "Epoch 45/50\n",
            "2/2 [==============================] - 0s 36ms/step - loss: 0.0727 - accuracy: 0.9782 - val_loss: 0.1223 - val_accuracy: 0.9633\n",
            "Epoch 46/50\n",
            "2/2 [==============================] - 0s 57ms/step - loss: 0.0794 - accuracy: 0.9782 - val_loss: 0.1218 - val_accuracy: 0.9633\n",
            "Epoch 47/50\n",
            "2/2 [==============================] - 0s 36ms/step - loss: 0.0803 - accuracy: 0.9769 - val_loss: 0.1220 - val_accuracy: 0.9633\n",
            "Epoch 48/50\n",
            "2/2 [==============================] - 0s 37ms/step - loss: 0.0760 - accuracy: 0.9769 - val_loss: 0.1221 - val_accuracy: 0.9633\n",
            "Epoch 49/50\n",
            "2/2 [==============================] - 0s 36ms/step - loss: 0.0831 - accuracy: 0.9755 - val_loss: 0.1224 - val_accuracy: 0.9633\n",
            "Epoch 50/50\n",
            "2/2 [==============================] - 0s 35ms/step - loss: 0.0796 - accuracy: 0.9782 - val_loss: 0.1230 - val_accuracy: 0.9633\n"
          ]
        }
      ]
    },
    {
      "cell_type": "code",
      "source": [
        "score = model.evaluate(X_test, y_test, verbose=0)\n",
        "print('Test score:', score[0])\n",
        "print('Test accuracy:', score[1])"
      ],
      "metadata": {
        "colab": {
          "base_uri": "https://localhost:8080/"
        },
        "id": "Wd3WesJg4kYO",
        "outputId": "457fbe09-b420-4200-cc2c-76d955d76128"
      },
      "execution_count": 93,
      "outputs": [
        {
          "output_type": "stream",
          "name": "stdout",
          "text": [
            "Test score: 0.12304538488388062\n",
            "Test accuracy: 0.9632652997970581\n"
          ]
        }
      ]
    },
    {
      "cell_type": "markdown",
      "source": [
        "## 2. Згорткові нейронні мережі"
      ],
      "metadata": {
        "id": "Y4XHgtzHcC3P"
      }
    },
    {
      "cell_type": "code",
      "source": [
        "import zipfile\n",
        "import os\n",
        "import shutil\n",
        "\n",
        "# Шлях до вашого архіву з датасетом\n",
        "zip_path = '/content/archive.zip'\n",
        "\n",
        "# Розпакувати архів\n",
        "extracted_path = '/content/extracted_data'  # шлях для розпакованих даних\n",
        "with zipfile.ZipFile(zip_path, 'r') as zip_ref:\n",
        "    zip_ref.extractall(extracted_path)\n",
        "\n",
        "# Створити теки для train і test\n",
        "train_path = '/content/train'\n",
        "test_path = '/content/test'\n",
        "os.makedirs(train_path, exist_ok=True)\n",
        "os.makedirs(test_path, exist_ok=True)\n",
        "\n",
        "# Шляхи до тек Test і Train\n",
        "source_train_path = os.path.join(extracted_path, 'PandasBears', 'Train')\n",
        "source_test_path = os.path.join(extracted_path, 'PandasBears', 'Test')\n",
        "\n",
        "# Функція для копіювання файлів з однієї теки в іншу\n",
        "def copy_files(source, destination):\n",
        "    for root, dirs, files in os.walk(source):\n",
        "        for file in files:\n",
        "            # Отримати шлях до кожного файлу\n",
        "            file_path = os.path.join(root, file)\n",
        "            # Отримати шлях для файлу у папці призначення\n",
        "            relative_path = os.path.relpath(file_path, source)\n",
        "            destination_file_path = os.path.join(destination, relative_path)\n",
        "            # Створити теку, якщо її не існує\n",
        "            os.makedirs(os.path.dirname(destination_file_path), exist_ok=True)\n",
        "            # Копіювати файл\n",
        "            shutil.copy(file_path, destination_file_path)\n",
        "\n",
        "# Копіювати файли з теки 'Train/Pandas' у теку 'train/Pandas'\n",
        "copy_files(os.path.join(source_train_path, 'Pandas'), os.path.join(train_path, 'Pandas'))\n",
        "\n",
        "# Копіювати файли з теки 'Train/Bears' у теку 'train/Bears'\n",
        "copy_files(os.path.join(source_train_path, 'Bears'), os.path.join(train_path, 'Bears'))\n",
        "\n",
        "# Копіювати файли з теки 'Test/Pandas' у теку 'test/Pandas'\n",
        "copy_files(os.path.join(source_test_path, 'Pandas'), os.path.join(test_path, 'Pandas'))\n",
        "\n",
        "# Копіювати файли з теки 'Test/Bears' у теку 'test/Bears'\n",
        "copy_files(os.path.join(source_test_path, 'Bears'), os.path.join(test_path, 'Bears'))"
      ],
      "metadata": {
        "id": "_SqJsp1rCdyH"
      },
      "execution_count": 100,
      "outputs": []
    },
    {
      "cell_type": "code",
      "source": [
        "batch_size = 32\n",
        "image_height = 180\n",
        "image_width = 180"
      ],
      "metadata": {
        "id": "eu5XjzK6LFeu"
      },
      "execution_count": 108,
      "outputs": []
    },
    {
      "cell_type": "code",
      "source": [
        "from tensorflow.keras.preprocessing.image import ImageDataGenerator\n",
        "\n",
        "train_data_generator = ImageDataGenerator(rescale=1./255)  # Нормалізація пікселів для тренувального датасету\n",
        "test_data_generator = ImageDataGenerator(rescale=1./255)  # Нормалізація пікселів для тестового датасету\n",
        "\n",
        "# Шляхи до тек з даними\n",
        "train_data_dir = '/content/train'\n",
        "test_data_dir = '/content/test'\n",
        "\n",
        "# Зчитування та підготовка тренувальних та тестових даних\n",
        "train_generator = train_data_generator.flow_from_directory(\n",
        "        train_data_dir,\n",
        "        target_size=(image_width, image_height),\n",
        "        batch_size=batch_size,\n",
        "        class_mode='binary')  # Якщо у вас є два класи, використайте 'binary'; для більшої кількості класів - 'categorical'\n",
        "\n",
        "test_generator = test_data_generator.flow_from_directory(\n",
        "        test_data_dir,\n",
        "        target_size=(image_width, image_height),\n",
        "        batch_size=batch_size,\n",
        "        class_mode='binary')  # Те ж саме, що й для тренувального датасету\n"
      ],
      "metadata": {
        "colab": {
          "base_uri": "https://localhost:8080/"
        },
        "id": "QlwZ7hdxJ1RT",
        "outputId": "879bf2c2-404d-482e-a2d6-175d66d4a5c5"
      },
      "execution_count": 109,
      "outputs": [
        {
          "output_type": "stream",
          "name": "stdout",
          "text": [
            "Found 500 images belonging to 2 classes.\n",
            "Found 100 images belonging to 2 classes.\n"
          ]
        }
      ]
    },
    {
      "cell_type": "code",
      "source": [
        "from tensorflow.keras.models import Sequential\n",
        "from tensorflow.keras.layers import Conv2D, MaxPooling2D, Flatten, Dense, Dropout\n",
        "\n",
        "model = Sequential([\n",
        "    Conv2D(32, (3, 3), activation='relu', input_shape=(image_width, image_height, 3)),\n",
        "    MaxPooling2D((2, 2)),\n",
        "\n",
        "    Conv2D(64, (3, 3), activation='relu'),\n",
        "    MaxPooling2D((2, 2)),\n",
        "\n",
        "    Conv2D(128, (3, 3), activation='relu'),\n",
        "    MaxPooling2D((2, 2)),\n",
        "\n",
        "    Flatten(),\n",
        "    Dense(128, activation='relu'),\n",
        "    Dropout(0.5),  # Зменшення перенавчання\n",
        "    Dense(1, activation='sigmoid')  # Вихідний шар для бінарної класифікації\n",
        "    # Якщо класів більше ніж два, використовуйте Dense зі відповідною кількістю нейронів та softmax активацією\n",
        "])\n",
        "\n",
        "# Компіляція моделі\n",
        "model.compile(optimizer='adam', loss='binary_crossentropy', metrics=['accuracy'])\n"
      ],
      "metadata": {
        "id": "IZBl2VSnK9qO"
      },
      "execution_count": 110,
      "outputs": []
    },
    {
      "cell_type": "code",
      "source": [
        "num_epochs = 10\n",
        "\n",
        "history = model.fit(\n",
        "    train_generator,\n",
        "    steps_per_epoch=train_generator.samples // batch_size,\n",
        "    epochs=num_epochs,\n",
        "    validation_data=test_generator,\n",
        "    validation_steps=test_generator.samples // batch_size)\n"
      ],
      "metadata": {
        "colab": {
          "base_uri": "https://localhost:8080/"
        },
        "id": "YK6am2XtLVz7",
        "outputId": "abfa763b-9d12-408d-845d-0380f2f83766"
      },
      "execution_count": 111,
      "outputs": [
        {
          "output_type": "stream",
          "name": "stdout",
          "text": [
            "Epoch 1/10\n",
            "15/15 [==============================] - 35s 2s/step - loss: 0.4851 - accuracy: 0.7991 - val_loss: 0.0229 - val_accuracy: 1.0000\n",
            "Epoch 2/10\n",
            "15/15 [==============================] - 32s 2s/step - loss: 0.0385 - accuracy: 0.9872 - val_loss: 3.2859e-05 - val_accuracy: 1.0000\n",
            "Epoch 3/10\n",
            "15/15 [==============================] - 34s 2s/step - loss: 0.0473 - accuracy: 0.9829 - val_loss: 3.9322e-04 - val_accuracy: 1.0000\n",
            "Epoch 4/10\n",
            "15/15 [==============================] - 32s 2s/step - loss: 0.0241 - accuracy: 0.9936 - val_loss: 4.4502e-04 - val_accuracy: 1.0000\n",
            "Epoch 5/10\n",
            "15/15 [==============================] - 36s 2s/step - loss: 0.0025 - accuracy: 1.0000 - val_loss: 5.4784e-04 - val_accuracy: 1.0000\n",
            "Epoch 6/10\n",
            "15/15 [==============================] - 32s 2s/step - loss: 0.0022 - accuracy: 1.0000 - val_loss: 8.1791e-05 - val_accuracy: 1.0000\n",
            "Epoch 7/10\n",
            "15/15 [==============================] - 32s 2s/step - loss: 7.5753e-04 - accuracy: 1.0000 - val_loss: 2.4901e-05 - val_accuracy: 1.0000\n",
            "Epoch 8/10\n",
            "15/15 [==============================] - 32s 2s/step - loss: 2.8680e-04 - accuracy: 1.0000 - val_loss: 2.3094e-05 - val_accuracy: 1.0000\n",
            "Epoch 9/10\n",
            "15/15 [==============================] - 31s 2s/step - loss: 1.6583e-04 - accuracy: 1.0000 - val_loss: 1.5593e-05 - val_accuracy: 1.0000\n",
            "Epoch 10/10\n",
            "15/15 [==============================] - 32s 2s/step - loss: 9.0337e-05 - accuracy: 1.0000 - val_loss: 1.1014e-05 - val_accuracy: 1.0000\n"
          ]
        }
      ]
    },
    {
      "cell_type": "code",
      "source": [
        "test_loss, test_accuracy = model.evaluate(test_generator, steps=test_generator.samples // batch_size)\n",
        "print(f\"Test accuracy: {test_accuracy}\")\n"
      ],
      "metadata": {
        "colab": {
          "base_uri": "https://localhost:8080/"
        },
        "id": "jIEYdumbLZal",
        "outputId": "c29a3414-a475-4944-de05-b4a0b2b14700"
      },
      "execution_count": 112,
      "outputs": [
        {
          "output_type": "stream",
          "name": "stdout",
          "text": [
            "3/3 [==============================] - 2s 498ms/step - loss: 1.0991e-05 - accuracy: 1.0000\n",
            "Test accuracy: 1.0\n"
          ]
        }
      ]
    },
    {
      "cell_type": "markdown",
      "source": [
        "## 3. Рекурентні нейронні мережі"
      ],
      "metadata": {
        "id": "HUDUCCViiLy3"
      }
    },
    {
      "cell_type": "markdown",
      "source": [
        "### Завантаження та очищення датасету\n",
        "https://www.kaggle.com/datasets/joebeachcapital/restaurant-reviews"
      ],
      "metadata": {
        "id": "7tE48ouh4fSi"
      }
    },
    {
      "cell_type": "code",
      "source": [
        "df=pd.read_csv('Restaurant_reviews.csv')\n",
        "df=df.dropna()"
      ],
      "metadata": {
        "id": "dQNC7VTYaV0-"
      },
      "execution_count": 150,
      "outputs": []
    },
    {
      "cell_type": "markdown",
      "source": [
        "### Вивід назв колонок та видалення зайвих"
      ],
      "metadata": {
        "id": "op7JzGRC4pfD"
      }
    },
    {
      "cell_type": "code",
      "source": [
        "df.columns"
      ],
      "metadata": {
        "colab": {
          "base_uri": "https://localhost:8080/"
        },
        "id": "QULrNWdTrZy6",
        "outputId": "11356d30-26ad-48d8-802a-ee45e31f0fc3"
      },
      "execution_count": 151,
      "outputs": [
        {
          "output_type": "execute_result",
          "data": {
            "text/plain": [
              "Index(['Restaurant', 'Reviewer', 'Review', 'Rating'], dtype='object')"
            ]
          },
          "metadata": {},
          "execution_count": 151
        }
      ]
    },
    {
      "cell_type": "code",
      "source": [
        "df=df.drop(['Restaurant','Reviewer'],axis=1)"
      ],
      "metadata": {
        "id": "8SdK1ohh78sK"
      },
      "execution_count": 152,
      "outputs": []
    },
    {
      "cell_type": "markdown",
      "source": [
        "### Підрахунок кількості елементів кожного класа"
      ],
      "metadata": {
        "id": "yIEAzK4v8R6E"
      }
    },
    {
      "cell_type": "code",
      "source": [
        "from collections import Counter\n",
        "Counter( df['Rating'])"
      ],
      "metadata": {
        "colab": {
          "base_uri": "https://localhost:8080/"
        },
        "id": "s7p_aTuorUZP",
        "outputId": "5cec1c94-fa37-45e0-a534-2b2e5ffa5c16"
      },
      "execution_count": 153,
      "outputs": [
        {
          "output_type": "execute_result",
          "data": {
            "text/plain": [
              "Counter({5: 3826, 4: 2373, 1: 1735, 3: 1192, 2: 684})"
            ]
          },
          "metadata": {},
          "execution_count": 153
        }
      ]
    },
    {
      "cell_type": "markdown",
      "source": [
        "### Зменшення кількості класів, шляхом їх об'єднання"
      ],
      "metadata": {
        "id": "ehUPTTdClOWr"
      }
    },
    {
      "cell_type": "code",
      "source": [
        "df['Rating'].replace({2: 1, 4: 3},inplace=True)\n",
        "Counter( df['Rating'])"
      ],
      "metadata": {
        "colab": {
          "base_uri": "https://localhost:8080/"
        },
        "id": "DcOJtvzFKj_s",
        "outputId": "9f6b5ade-e59f-4326-b987-22b980190663"
      },
      "execution_count": 154,
      "outputs": [
        {
          "output_type": "execute_result",
          "data": {
            "text/plain": [
              "Counter({5: 3826, 3: 3565, 1: 2419})"
            ]
          },
          "metadata": {},
          "execution_count": 154
        }
      ]
    },
    {
      "cell_type": "markdown",
      "source": [
        "### Очищення тексту регулярними виразами"
      ],
      "metadata": {
        "id": "pWXaR_6H2otC"
      }
    },
    {
      "cell_type": "code",
      "source": [
        "def clean_text(text):\n",
        "  stop_words = set(stopwords.words(\"english\"))\n",
        "  stop_words.update(['restaurant','place','food','taste','service','ordered','order','one','good'])\n",
        "  text = text.lower()\n",
        "  text = re.sub(r'[^a-zA-Z\\s]', '', text)\n",
        "  text = re.sub('\\n\\S+', '', text)\n",
        "  text = re.sub('\\s{2,}', \" \", text)\n",
        "  text = ' '.join([word for word in text.split(' ') if word not in stop_words])\n",
        "  return text"
      ],
      "metadata": {
        "id": "DDMAquSYpieD"
      },
      "execution_count": 155,
      "outputs": []
    },
    {
      "cell_type": "code",
      "source": [
        "df['Review']=df['Review'].apply(clean_text)"
      ],
      "metadata": {
        "id": "--gDcVfXpYWC"
      },
      "execution_count": 156,
      "outputs": []
    },
    {
      "cell_type": "code",
      "source": [
        "df['Review']"
      ],
      "metadata": {
        "colab": {
          "base_uri": "https://localhost:8080/"
        },
        "id": "XCDq9V-6_4JY",
        "outputId": "12a80d21-d283-4cb5-eb21-f16c269f4648"
      },
      "execution_count": 157,
      "outputs": [
        {
          "output_type": "execute_result",
          "data": {
            "text/plain": [
              "0       ambience quite saturday lunch cost effective s...\n",
              "1       ambience pleasant evening prompt experience so...\n",
              "2       must try great great ambience thnx pradeep sub...\n",
              "3       soumen das arun great guy behavior sincerety c...\n",
              "4       goodwe kodi drumsticks basket mutton biryani t...\n",
              "                              ...                        \n",
              "9805    never fan chinese visited chinese pavilionbanj...\n",
              "9806    visited friends immediately blown away quality...\n",
              "9807    im going cut chase excellent must say honey ch...\n",
              "9808    madhumathi mahajan well start nice courteous s...\n",
              "9809    personally love prefer chinese couple times hu...\n",
              "Name: Review, Length: 9810, dtype: object"
            ]
          },
          "metadata": {},
          "execution_count": 157
        }
      ]
    },
    {
      "cell_type": "markdown",
      "source": [
        "### Розбиття датасету на тренувальні і тестові дані"
      ],
      "metadata": {
        "id": "9hjpORfWAk28"
      }
    },
    {
      "cell_type": "code",
      "source": [
        "X_train, X_test, y_train, y_test = train_test_split(df['Review'], df['Rating'], test_size=0.30, random_state=23)"
      ],
      "metadata": {
        "id": "E1YJE2lkzlxy"
      },
      "execution_count": 158,
      "outputs": []
    },
    {
      "cell_type": "code",
      "source": [
        "from tensorflow.keras.preprocessing.text import Tokenizer\n",
        "from tensorflow.keras.preprocessing.sequence import pad_sequences\n",
        "\n",
        "max_words = 10000\n",
        "maxlen = 100\n",
        "\n",
        "tokenizer = Tokenizer(num_words=max_words)\n",
        "tokenizer.fit_on_texts(X_train)\n",
        "X_train_seq = tokenizer.texts_to_sequences(X_train)\n",
        "X_test_seq = tokenizer.texts_to_sequences(X_test)\n",
        "\n",
        "word_index = tokenizer.word_index\n",
        "print(f'Знайдено {len(word_index)} унікальних токенів.')\n",
        "\n",
        "data = pad_sequences(X_train_seq, maxlen=maxlen)"
      ],
      "metadata": {
        "colab": {
          "base_uri": "https://localhost:8080/"
        },
        "id": "wIkGqAsVPc5-",
        "outputId": "4a0fcfdf-741f-47e3-8578-05e65a7550fa"
      },
      "execution_count": 138,
      "outputs": [
        {
          "output_type": "stream",
          "name": "stdout",
          "text": [
            "Знайдено 14260 унікальних токенів.\n"
          ]
        }
      ]
    },
    {
      "cell_type": "code",
      "source": [
        "max_length = 100\n",
        "padding_type = \"post\"\n",
        "trunction_type=\"post\"\n",
        "X_train_pad = keras.utils.pad_sequences(X_train_seq,maxlen=max_length, padding=padding_type,\n",
        "                       truncating=trunction_type)\n",
        "X_test_pad = keras.utils.pad_sequences(X_test_seq,maxlen=max_length,\n",
        "                               padding=padding_type, truncating=trunction_type)"
      ],
      "metadata": {
        "id": "Pd0EoowPR6tF"
      },
      "execution_count": 141,
      "outputs": []
    },
    {
      "cell_type": "code",
      "source": [
        "from tensorflow.keras.layers import LSTM, Dense, Embedding, SpatialDropout1D\n",
        "from tensorflow.keras.models import Sequential\n",
        "\n",
        "embedding_dim = 100  # Розмірність векторного представлення слів\n",
        "model = Sequential([\n",
        "    Embedding(max_words, embedding_dim, input_length=maxlen),\n",
        "    SpatialDropout1D(0.2),\n",
        "    LSTM(64, dropout=0.2, recurrent_dropout=0.2),\n",
        "    Dense(3, activation='softmax')\n",
        "])\n",
        "\n",
        "model.compile(optimizer='adam', loss='categorical_crossentropy', metrics=['accuracy'])\n"
      ],
      "metadata": {
        "id": "gs_u2HI_P_WU"
      },
      "execution_count": 142,
      "outputs": []
    },
    {
      "cell_type": "code",
      "source": [
        "model.fit(X_train_pad, y_train, epochs=10, batch_size=32, validation_data=(X_test_pad, y_train))"
      ],
      "metadata": {
        "id": "8uO3fxzgQ8bW"
      },
      "execution_count": null,
      "outputs": []
    }
  ]
}